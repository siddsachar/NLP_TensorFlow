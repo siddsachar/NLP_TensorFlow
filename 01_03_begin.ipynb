{
  "cells": [
    {
      "cell_type": "markdown",
      "metadata": {
        "colab_type": "text",
        "id": "view-in-github"
      },
      "source": [
        "<a href=\"https://colab.research.google.com/github/dswh/lil_nlp_with_tensorflow/blob/main/01_03_begin.ipynb\" target=\"_parent\"><img src=\"https://colab.research.google.com/assets/colab-badge.svg\" alt=\"Open In Colab\"/></a>"
      ]
    },
    {
      "cell_type": "markdown",
      "metadata": {
        "id": "x2_YdwCOp7Ky"
      },
      "source": [
        "# Creating sequences of tokens\n",
        "\n",
        "The notebook covers the creation of sequences of tokens from words in a sentence."
      ]
    },
    {
      "cell_type": "code",
      "execution_count": 1,
      "metadata": {
        "id": "xeg4sf3Ap2j2"
      },
      "outputs": [
        {
          "name": "stderr",
          "output_type": "stream",
          "text": [
            "2025-07-15 13:02:33.095984: I tensorflow/core/util/port.cc:153] oneDNN custom operations are on. You may see slightly different numerical results due to floating-point round-off errors from different computation orders. To turn them off, set the environment variable `TF_ENABLE_ONEDNN_OPTS=0`.\n",
            "2025-07-15 13:02:33.096670: I external/local_xla/xla/tsl/cuda/cudart_stub.cc:32] Could not find cuda drivers on your machine, GPU will not be used.\n",
            "2025-07-15 13:02:33.101745: I external/local_xla/xla/tsl/cuda/cudart_stub.cc:32] Could not find cuda drivers on your machine, GPU will not be used.\n",
            "2025-07-15 13:02:33.120877: E external/local_xla/xla/stream_executor/cuda/cuda_fft.cc:467] Unable to register cuFFT factory: Attempting to register factory for plugin cuFFT when one has already been registered\n",
            "WARNING: All log messages before absl::InitializeLog() is called are written to STDERR\n",
            "E0000 00:00:1752584553.147055    9626 cuda_dnn.cc:8579] Unable to register cuDNN factory: Attempting to register factory for plugin cuDNN when one has already been registered\n",
            "E0000 00:00:1752584553.151435    9626 cuda_blas.cc:1407] Unable to register cuBLAS factory: Attempting to register factory for plugin cuBLAS when one has already been registered\n",
            "W0000 00:00:1752584553.163798    9626 computation_placer.cc:177] computation placer already registered. Please check linkage and avoid linking the same target more than once.\n",
            "W0000 00:00:1752584553.163818    9626 computation_placer.cc:177] computation placer already registered. Please check linkage and avoid linking the same target more than once.\n",
            "W0000 00:00:1752584553.163820    9626 computation_placer.cc:177] computation placer already registered. Please check linkage and avoid linking the same target more than once.\n",
            "W0000 00:00:1752584553.163822    9626 computation_placer.cc:177] computation placer already registered. Please check linkage and avoid linking the same target more than once.\n",
            "2025-07-15 13:02:33.168760: I tensorflow/core/platform/cpu_feature_guard.cc:210] This TensorFlow binary is optimized to use available CPU instructions in performance-critical operations.\n",
            "To enable the following instructions: AVX2 AVX512F AVX512_VNNI FMA, in other operations, rebuild TensorFlow with the appropriate compiler flags.\n"
          ]
        }
      ],
      "source": [
        "from tensorflow.keras.preprocessing.text import Tokenizer"
      ]
    },
    {
      "cell_type": "markdown",
      "metadata": {
        "id": "BvRxVQ1xc3XR"
      },
      "source": [
        "## Define training sentences in a list"
      ]
    },
    {
      "cell_type": "code",
      "execution_count": 2,
      "metadata": {
        "id": "o9vIbV6tqPsB"
      },
      "outputs": [],
      "source": [
        "##define list of sentences to tokenize\n",
        "train_sentences = [\n",
        "             'It is a sunny day',\n",
        "             'It is a cloudy day',\n",
        "             'Will it rain today?'\n",
        "\n",
        "]"
      ]
    },
    {
      "cell_type": "markdown",
      "metadata": {
        "id": "dijfmx8xdZ6F"
      },
      "source": [
        "## Train the tokenizer"
      ]
    },
    {
      "cell_type": "code",
      "execution_count": 3,
      "metadata": {
        "id": "VptkQzDAqkgB"
      },
      "outputs": [],
      "source": [
        "##set up the tokenizer\n",
        "tokenizer = Tokenizer(num_words=100)\n",
        "\n",
        "##train the tokenizer on training sentences\n",
        "tokenizer.fit_on_texts(train_sentences)\n",
        "\n",
        "##store word index for the words in the sentence\n",
        "word_index = tokenizer.word_index"
      ]
    },
    {
      "cell_type": "markdown",
      "metadata": {
        "id": "sioLj-JsddVl"
      },
      "source": [
        "## Create sequences"
      ]
    },
    {
      "cell_type": "code",
      "execution_count": 4,
      "metadata": {
        "id": "0lcfheKeq2ak"
      },
      "outputs": [],
      "source": [
        "##create sequences using tokenizer\n",
        "sequences = tokenizer.texts_to_sequences(train_sentences)\n"
      ]
    },
    {
      "cell_type": "code",
      "execution_count": 5,
      "metadata": {
        "id": "CSmb-p0mrOqW"
      },
      "outputs": [
        {
          "name": "stdout",
          "output_type": "stream",
          "text": [
            "Word index -->{'it': 1, 'is': 2, 'a': 3, 'day': 4, 'sunny': 5, 'cloudy': 6, 'will': 7, 'rain': 8, 'today': 9}\n",
            "Sequences of words -->[[1, 2, 3, 5, 4], [1, 2, 3, 6, 4], [7, 1, 8, 9]]\n"
          ]
        }
      ],
      "source": [
        "##print word index dictionary and sequences\n",
        "print(f\"Word index -->{tokenizer.word_index}\")\n",
        "print(f\"Sequences of words -->{sequences}\")"
      ]
    },
    {
      "cell_type": "code",
      "execution_count": 6,
      "metadata": {
        "id": "YGY_CHTjrSra"
      },
      "outputs": [
        {
          "name": "stdout",
          "output_type": "stream",
          "text": [
            "It is a sunny day\n",
            "[1, 2, 3, 5, 4]\n"
          ]
        }
      ],
      "source": [
        "##print sample sentence and sequence\n",
        "print(train_sentences[0])\n",
        "print(sequences[0])"
      ]
    },
    {
      "cell_type": "markdown",
      "metadata": {
        "id": "QojDIf_aseIE"
      },
      "source": [
        "## Tokenizing new data using the same tokenizer"
      ]
    },
    {
      "cell_type": "code",
      "execution_count": 7,
      "metadata": {
        "id": "QnFZFUlXsbag"
      },
      "outputs": [],
      "source": [
        "new_sentences = [\n",
        "                 'Will it be raining today?',\n",
        "                 'It is a pleasant day.'\n",
        "]"
      ]
    },
    {
      "cell_type": "code",
      "execution_count": 8,
      "metadata": {
        "id": "VzWszj9BuDoY"
      },
      "outputs": [],
      "source": [
        "new_sequences = tokenizer.texts_to_sequences(new_sentences)"
      ]
    },
    {
      "cell_type": "code",
      "execution_count": 9,
      "metadata": {
        "id": "Ss1XZ8ttuK-d"
      },
      "outputs": [
        {
          "name": "stdout",
          "output_type": "stream",
          "text": [
            "['Will it be raining today?', 'It is a pleasant day.']\n",
            "[[7, 1, 9], [1, 2, 3, 4]]\n"
          ]
        }
      ],
      "source": [
        "print(new_sentences)\n",
        "print(new_sequences)"
      ]
    },
    {
      "cell_type": "markdown",
      "metadata": {
        "id": "uRaRs09MDvbv"
      },
      "source": [
        "## Replacing newly encountered words with special values"
      ]
    },
    {
      "cell_type": "code",
      "execution_count": 10,
      "metadata": {
        "id": "1cD_c0zLuOAz"
      },
      "outputs": [],
      "source": [
        "##set up the tokenizer again with oov_token\n",
        "tokenizer = Tokenizer(num_words=100, oov_token = \"<oov>\")\n",
        "\n",
        "##train the new tokenizer on training sentences\n",
        "tokenizer.fit_on_texts(train_sentences)\n",
        "\n",
        "##store word index for the words in the sentence\n",
        "word_index = tokenizer.word_index"
      ]
    },
    {
      "cell_type": "code",
      "execution_count": 12,
      "metadata": {
        "id": "kwS1YySvFe2P"
      },
      "outputs": [
        {
          "name": "stdout",
          "output_type": "stream",
          "text": [
            "{'<oov>': 1, 'it': 2, 'is': 3, 'a': 4, 'day': 5, 'sunny': 6, 'cloudy': 7, 'will': 8, 'rain': 9, 'today': 10}\n",
            "['Will it be raining today?', 'It is a pleasant day.']\n",
            "[[8, 2, 1, 1, 10], [2, 3, 4, 1, 5]]\n"
          ]
        }
      ],
      "source": [
        "##create sequences of the new sentences\n",
        "new_sequences = tokenizer.texts_to_sequences(new_sentences)\n",
        "print(word_index)\n",
        "print(new_sentences)\n",
        "print(new_sequences)"
      ]
    },
    {
      "cell_type": "code",
      "execution_count": null,
      "metadata": {
        "id": "hwDQZ1rlqCJp"
      },
      "outputs": [],
      "source": []
    }
  ],
  "metadata": {
    "accelerator": "GPU",
    "colab": {
      "authorship_tag": "ABX9TyPDhwxTicaQUp4Vqx58DEJa",
      "include_colab_link": true,
      "name": "01_03_begin.ipynb",
      "private_outputs": true,
      "provenance": []
    },
    "kernelspec": {
      "display_name": "Python 3",
      "name": "python3"
    },
    "language_info": {
      "codemirror_mode": {
        "name": "ipython",
        "version": 3
      },
      "file_extension": ".py",
      "mimetype": "text/x-python",
      "name": "python",
      "nbconvert_exporter": "python",
      "pygments_lexer": "ipython3",
      "version": "3.12.1"
    }
  },
  "nbformat": 4,
  "nbformat_minor": 0
}
